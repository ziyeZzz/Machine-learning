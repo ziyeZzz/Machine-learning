{
 "cells": [
  {
   "cell_type": "markdown",
   "metadata": {},
   "source": [
    "# 线性回归"
   ]
  },
  {
   "cell_type": "code",
   "execution_count": 2,
   "metadata": {},
   "outputs": [],
   "source": [
    "import numpy as np\n",
    "import math\n",
    "from sklearn.metrics import mean_squared_error"
   ]
  },
  {
   "cell_type": "markdown",
   "metadata": {},
   "source": [
    "## 数据准备"
   ]
  },
  {
   "cell_type": "code",
   "execution_count": 3,
   "metadata": {},
   "outputs": [],
   "source": [
    "def shuffle_data(X,y,seed=None):\n",
    "    # 将X和y的数据进行随机排序/乱序化\n",
    "    if seed:\n",
    "        np.random.seed(seed)\n",
    "    idx = np.arange(X.shape[0])\n",
    "    np.random.shuffle(idx)\n",
    "    return X[idx],y[idx] # 对于np.array, idx作为index数组可以改变array的顺序"
   ]
  },
  {
   "cell_type": "code",
   "execution_count": 4,
   "metadata": {},
   "outputs": [],
   "source": [
    "def train_test_split(X,y,test_size=0.5,shuffle=True,seed=None):\n",
    "    '将数据集根据test size分成训练集和测试集，可以指定是否随机洗牌'\n",
    "    if shuffle:\n",
    "        X,y=shuffle_data(X,y,seed)\n",
    "    split_i = len(y)-int(len(y)//(1/test_size))\n",
    "    # split_i = len(y)-int(len(y)*test_size)\n",
    "    X_train,X_test=X[:split_i],X[split_i:]\n",
    "    y_train,y_test=y[:split_i],y[split_i:]\n",
    "    \n",
    "    return X_train,X_test,y_train,y_test"
   ]
  },
  {
   "cell_type": "code",
   "execution_count": 5,
   "metadata": {},
   "outputs": [],
   "source": [
    "from sklearn.datasets import make_regression\n",
    "import matplotlib.pyplot as plt"
   ]
  },
  {
   "cell_type": "code",
   "execution_count": 6,
   "metadata": {},
   "outputs": [],
   "source": [
    "X,y = make_regression(n_samples=100,n_features=1,noise=20)"
   ]
  },
  {
   "cell_type": "code",
   "execution_count": 7,
   "metadata": {},
   "outputs": [],
   "source": [
    "X_train,X_test,y_train,y_test=train_test_split(X,y,test_size=0.2)"
   ]
  },
  {
   "cell_type": "code",
   "execution_count": 8,
   "metadata": {},
   "outputs": [
    {
     "data": {
      "text/plain": [
       "(80, 1)"
      ]
     },
     "execution_count": 8,
     "metadata": {},
     "output_type": "execute_result"
    }
   ],
   "source": [
    "X_train.shape"
   ]
  },
  {
   "cell_type": "markdown",
   "metadata": {},
   "source": [
    "因为使用make_regression函数使得X乱序，在绘制matplot的图像时会有问题，所以对X进行排序"
   ]
  },
  {
   "cell_type": "code",
   "execution_count": 9,
   "metadata": {},
   "outputs": [],
   "source": [
    "s = sorted([(X_test[i][0],y_test[i]) for i in range(len(X_test))], key=lambda j:j[0])"
   ]
  },
  {
   "cell_type": "code",
   "execution_count": 10,
   "metadata": {},
   "outputs": [
    {
     "data": {
      "text/plain": [
       "[(-1.5506339344081885, -132.45810536795375),\n",
       " (-1.3657339780335982, -139.2770773624411),\n",
       " (-1.2560306365827523, -126.5672796571069),\n",
       " (-1.154578659959774, -136.17233838432037),\n",
       " (-1.1450841775025646, -130.92480748470294),\n",
       " (-1.0538590565218418, -99.76111359500328),\n",
       " (-0.7433485023896939, -76.37161541025361),\n",
       " (-0.5195543173196034, -34.53565438645779),\n",
       " (-0.4276349802161598, -51.3974051363619),\n",
       " (-0.14398437916043005, -41.25705927846178),\n",
       " (-0.10106681757472623, 15.063007898874963),\n",
       " (0.03718848084450358, 3.569103476418433),\n",
       " (0.08845923699948176, -14.30898768007279),\n",
       " (0.27030939071205345, -19.654371953699165),\n",
       " (0.2873023138273723, 26.36584422960201),\n",
       " (0.3717996104289664, 43.322869938082405),\n",
       " (0.5991069547313523, 56.94601554750421),\n",
       " (0.8713988612638535, 82.55760192410924),\n",
       " (0.8917215300190534, 68.29120695970843),\n",
       " (1.4010180478776382, 114.69960174716637)]"
      ]
     },
     "execution_count": 10,
     "metadata": {},
     "output_type": "execute_result"
    }
   ],
   "source": [
    "s"
   ]
  },
  {
   "cell_type": "code",
   "execution_count": 11,
   "metadata": {},
   "outputs": [],
   "source": [
    "X_test=np.array([[j[0]] for j in s])\n",
    "y_test=np.array([j[1] for j in s])"
   ]
  },
  {
   "cell_type": "markdown",
   "metadata": {},
   "source": [
    "## 线性回归"
   ]
  },
  {
   "cell_type": "code",
   "execution_count": 12,
   "metadata": {},
   "outputs": [],
   "source": [
    "class Regression(object):\n",
    "    \"\"\"\n",
    "        基础线性回归模型，通过输入的X和y进行回归\n",
    "        超参：\n",
    "            n_iterations:int 训练的步数\n",
    "            learning_rate:float 学习率\n",
    "        内部函数：\n",
    "            initialize_weights:初始化参数\n",
    "            fit：开始训练\n",
    "            predict：预测\n",
    "        内部的数据：\n",
    "            n_iterations\n",
    "            learning_rate\n",
    "            regularization:正则化参数\n",
    "            regularization.grad:正则化的梯度函数\n",
    "    \"\"\"\n",
    "    def __init__(self,n_iterations,learning_rate):\n",
    "        self.n_iterations = n_iterations\n",
    "        self.learning_rate = learning_rate\n",
    "        self.regularization = lambda x:0 # 无论给什么都是0，相当于默认为0\n",
    "        self.regularization.grad = lambda x:0\n",
    "    \n",
    "    def initialize_weights(self,n_features):\n",
    "        \"\"\"\n",
    "            初始化系数，输入的feature的个数，输出是一个随机初始化好的参数矩阵 A, b\n",
    "            值域 [-1/sqrt(N), 1/sqrt(N)] 的正态分布\n",
    "        \"\"\"\n",
    "        limit = 1/math.sqrt(n_features)\n",
    "        self.w = np.random.uniform(-limit,limit,(n_features,))\n",
    "        # Uniform Distribution/Xavier/MSRA\n",
    "    \n",
    "    def fit(self,X,y):\n",
    "        # 插入偏置列 1 到X中\n",
    "        X = np.insert(X,0,1,axis=1) # 给每一行的第0列增加一个1\n",
    "        self.training_errors = [] # 保存每一次步长的训练Loss\n",
    "        self.initialize_weights(n_features=X.shape[1]) # 初始化参数w\n",
    "        \n",
    "        # 进行梯度下降迭代\n",
    "        for i in range(self.n_iterations):\n",
    "            y_pred = X.dot(self.w) # 进行预测\n",
    "            # 计算Loss\n",
    "            mse = np.mean(0.5*(y-y_pred)**2+self.regularization(self.w))\n",
    "            self.training_errors.append(mse) # 将Loss加入到training_errors的数组中\n",
    "            # 计算带有正则化项的梯度\n",
    "            grad_w = -(y-y_pred).T.dot(X)/len(X)+self.regularization.grad(self.w)\n",
    "            # 根据梯度下降算法更新参数\n",
    "            self.w -= self.learning_rate*grad_w\n",
    "    \n",
    "    def predict(self,X):\n",
    "        # 通过输入X预测一个样本\n",
    "        X = np.insert(X,0,1,axis=1)\n",
    "        pred = X.dot(self.w)\n",
    "        return pred\n",
    "    "
   ]
  },
  {
   "cell_type": "code",
   "execution_count": 13,
   "metadata": {},
   "outputs": [],
   "source": [
    "model = Regression(n_iterations=1000,learning_rate=0.01)"
   ]
  },
  {
   "cell_type": "code",
   "execution_count": 14,
   "metadata": {},
   "outputs": [],
   "source": [
    "model.fit(X_train,y_train)"
   ]
  },
  {
   "cell_type": "code",
   "execution_count": 15,
   "metadata": {},
   "outputs": [
    {
     "data": {
      "text/plain": [
       "Text(0.5, 0, 'Steps')"
      ]
     },
     "execution_count": 15,
     "metadata": {},
     "output_type": "execute_result"
    },
    {
     "data": {
      "image/png": "[encoded data removed]",
      "text/plain": [
       "<Figure size 432x288 with 1 Axes>"
      ]
     },
     "metadata": {
      "needs_background": "light"
     },
     "output_type": "display_data"
    }
   ],
   "source": [
    "training = plt.plot(range(len(model.training_errors)),model.training_errors,label=\"Training Error\")\n",
    "plt.title(\"Linear Regression Training Error\")\n",
    "plt.ylabel('Train Loss')\n",
    "plt.xlabel(\"Steps\")"
   ]
  },
  {
   "cell_type": "code",
   "execution_count": 16,
   "metadata": {},
   "outputs": [
    {
     "data": {
      "text/plain": [
       "array([ 2.36684718, 88.95343163])"
      ]
     },
     "execution_count": 16,
     "metadata": {},
     "output_type": "execute_result"
    }
   ],
   "source": [
    "model.w"
   ]
  },
  {
   "cell_type": "markdown",
   "metadata": {},
   "source": [
    "## 模型评测"
   ]
  },
  {
   "cell_type": "code",
   "execution_count": 17,
   "metadata": {},
   "outputs": [],
   "source": [
    "y_pred = model.predict(X_test)"
   ]
  },
  {
   "cell_type": "code",
   "execution_count": 18,
   "metadata": {},
   "outputs": [],
   "source": [
    "mse = mean_squared_error(y_pred,y_test)"
   ]
  },
  {
   "cell_type": "code",
   "execution_count": 19,
   "metadata": {},
   "outputs": [
    {
     "data": {
      "text/plain": [
       "405.0256522950132"
      ]
     },
     "execution_count": 19,
     "metadata": {},
     "output_type": "execute_result"
    }
   ],
   "source": [
    "mse"
   ]
  },
  {
   "cell_type": "code",
   "execution_count": 20,
   "metadata": {},
   "outputs": [
    {
     "data": {
      "text/plain": [
       "[<matplotlib.lines.Line2D at 0x25d7b3fad30>]"
      ]
     },
     "execution_count": 20,
     "metadata": {},
     "output_type": "execute_result"
    },
    {
     "data": {
      "image/png": "[encoded data removed]",
      "text/plain": [
       "<Figure size 432x288 with 1 Axes>"
      ]
     },
     "metadata": {
      "needs_background": "light"
     },
     "output_type": "display_data"
    }
   ],
   "source": [
    "plt.plot(X_test,y_test,'k.')\n",
    "plt.plot(X_test,y_pred,'Y')"
   ]
  },
  {
   "cell_type": "markdown",
   "metadata": {},
   "source": [
    "## 带有最小二乘法的线性回归"
   ]
  },
  {
   "cell_type": "code",
   "execution_count": 21,
   "metadata": {},
   "outputs": [],
   "source": [
    "def lsm_function(X,y):\n",
    "    G = np.mat(np.insert(X, 0, 1, axis=1))\n",
    "    return np.squeeze(np.asarray((G.T.dot(G)).I.dot(G.T).dot(y)))"
   ]
  },
  {
   "cell_type": "code",
   "execution_count": 22,
   "metadata": {},
   "outputs": [
    {
     "data": {
      "text/plain": [
       "array([ 2.37434802, 88.99676614])"
      ]
     },
     "execution_count": 22,
     "metadata": {},
     "output_type": "execute_result"
    }
   ],
   "source": [
    "lsm_function(X_train,y_train)"
   ]
  },
  {
   "cell_type": "code",
   "execution_count": 23,
   "metadata": {},
   "outputs": [],
   "source": [
    "class LinearRegression(Regression):\n",
    "    \"\"\"\n",
    "        带有最小二乘法的线性回归\n",
    "        参数：\n",
    "        ------------------\n",
    "        n_iterations\n",
    "        \n",
    "        learning_rate\n",
    "        \n",
    "        gradient_descent:bool\n",
    "            决定是否使用梯度下降法，如果True则使用梯度下降，False使用最小二乘\n",
    "    \"\"\"\n",
    "    def __init__(self,n_iterations=500,learning_rate=0.1,gradient_descent=True):\n",
    "        self.gradient_descent = gradient_descent\n",
    "        self.regularization = lambda x:0 #正则化L2的loss\n",
    "        self.regularization.grad = lambda x:0 #正则化的梯度，是上面的导数\n",
    "        super(LinearRegression,self).__init__(n_iterations=n_iterations,learning_rate=learning_rate)\n",
    "    \n",
    "    def fit(self,X,y):\n",
    "        if not self.gradient_descent:\n",
    "            self.w = lsm_function(X,y)\n",
    "        else:\n",
    "            super(LinearRegression,self).fit(X,y)\n",
    "    \n",
    "    def predict(self,X):\n",
    "        return super(LinearRegression,self).predict(X)"
   ]
  },
  {
   "cell_type": "code",
   "execution_count": 24,
   "metadata": {},
   "outputs": [],
   "source": [
    "model = LinearRegression(n_iterations=1000,learning_rate=0.1,gradient_descent=False)"
   ]
  },
  {
   "cell_type": "code",
   "execution_count": 25,
   "metadata": {},
   "outputs": [],
   "source": [
    "model.fit(X_train,y_train)"
   ]
  },
  {
   "cell_type": "code",
   "execution_count": 26,
   "metadata": {},
   "outputs": [
    {
     "data": {
      "text/plain": [
       "array([ 2.37434802, 88.99676614])"
      ]
     },
     "execution_count": 26,
     "metadata": {},
     "output_type": "execute_result"
    }
   ],
   "source": [
    "model.w"
   ]
  },
  {
   "cell_type": "code",
   "execution_count": 27,
   "metadata": {},
   "outputs": [],
   "source": [
    "def test_and_draw(model):\n",
    "    y_pred = model.predict(X_test)\n",
    "    mse = mean_squared_error(y_test,y_pred)\n",
    "    print(\"方差：\",mse)\n",
    "    plt.plot(X_test,y_test,'k.')\n",
    "    plt.plot(X_test,y_pred,'Y')"
   ]
  },
  {
   "cell_type": "code",
   "execution_count": 28,
   "metadata": {},
   "outputs": [
    {
     "name": "stdout",
     "output_type": "stream",
     "text": [
      "方差： 404.7383545921972\n"
     ]
    },
    {
     "data": {
      "image/png": "[encoded data removed]",
      "text/plain": [
       "<Figure size 432x288 with 1 Axes>"
      ]
     },
     "metadata": {
      "needs_background": "light"
     },
     "output_type": "display_data"
    }
   ],
   "source": [
    "test_and_draw(model)"
   ]
  },
  {
   "cell_type": "markdown",
   "metadata": {},
   "source": [
    "## 正则化回归"
   ]
  },
  {
   "cell_type": "code",
   "execution_count": 29,
   "metadata": {},
   "outputs": [],
   "source": [
    "class l1_regularization():\n",
    "    \"\"\"\n",
    "    L1正则化类/函数\n",
    "    参数：\n",
    "        alpha--L1正则化系数\n",
    "    \"\"\"\n",
    "    def __init__(self,alpha):\n",
    "        self.alpha = alpha\n",
    "    def __call__(self,w):\n",
    "        return self.alpha*np.linalg.norm(w,ord=1) #np.linalg.norm求范数的\n",
    "    def grad(self,w):\n",
    "        # w>0 -> w'=1, w<0 -> w'=-1, w=0 -> w'=0 \n",
    "        return self.alpha*np.sign(w)"
   ]
  },
  {
   "cell_type": "code",
   "execution_count": 30,
   "metadata": {},
   "outputs": [],
   "source": [
    "l1 = l1_regularization(alpha=0.01)"
   ]
  },
  {
   "cell_type": "code",
   "execution_count": 31,
   "metadata": {},
   "outputs": [
    {
     "data": {
      "text/plain": [
       "0.07"
      ]
     },
     "execution_count": 31,
     "metadata": {},
     "output_type": "execute_result"
    }
   ],
   "source": [
    "l1([-3,4])"
   ]
  },
  {
   "cell_type": "code",
   "execution_count": 32,
   "metadata": {},
   "outputs": [
    {
     "data": {
      "text/plain": [
       "array([-0.01,  0.01,  0.  ])"
      ]
     },
     "execution_count": 32,
     "metadata": {},
     "output_type": "execute_result"
    }
   ],
   "source": [
    "l1.grad([-3,4,0])"
   ]
  },
  {
   "cell_type": "markdown",
   "metadata": {},
   "source": [
    "## L2正则化参数"
   ]
  },
  {
   "cell_type": "code",
   "execution_count": 33,
   "metadata": {},
   "outputs": [],
   "source": [
    "class l2_regularization():\n",
    "    \"\"\"\n",
    "    L2正则化参数\n",
    "    参数：\n",
    "        alpha 正则化系数\n",
    "    \"\"\"\n",
    "    def __init__(self,alpha):\n",
    "        self.alpha = alpha\n",
    "    def __call__(self,w):\n",
    "        return self.alpha*0.5*w.T.dot(w)\n",
    "    def grad(self,w):\n",
    "        return self.alpha*w"
   ]
  },
  {
   "cell_type": "code",
   "execution_count": 34,
   "metadata": {},
   "outputs": [],
   "source": [
    "class LassoLinearRegression(Regression):\n",
    "    def __init__(self,alpha,n_iterations=1000,learning_rate=0.01):\n",
    "        self.regularization=l1_regularization(alpha=alpha)\n",
    "        super(LassoLinearRegression,self).__init__(n_iterations,learning_rate)\n",
    "    \n",
    "    def fit(self,X,y):\n",
    "        super(LassoLinearRegression,self).fit(X,y)\n",
    "    \n",
    "    def predict(self,X):\n",
    "        return super(LassoLinearRegression,self).predict(X)"
   ]
  },
  {
   "cell_type": "code",
   "execution_count": 35,
   "metadata": {},
   "outputs": [],
   "source": [
    "model = LassoLinearRegression(alpha=1.2,n_iterations=1000,learning_rate=0.1)"
   ]
  },
  {
   "cell_type": "code",
   "execution_count": 36,
   "metadata": {},
   "outputs": [],
   "source": [
    "model.fit(X_train,y_train)"
   ]
  },
  {
   "cell_type": "code",
   "execution_count": 37,
   "metadata": {},
   "outputs": [
    {
     "data": {
      "text/plain": [
       "array([ 2.37434802, 88.99676614])"
      ]
     },
     "execution_count": 37,
     "metadata": {},
     "output_type": "execute_result"
    }
   ],
   "source": [
    "model.w"
   ]
  },
  {
   "cell_type": "code",
   "execution_count": 38,
   "metadata": {},
   "outputs": [
    {
     "name": "stdout",
     "output_type": "stream",
     "text": [
      "方差： 404.73835459219805\n"
     ]
    },
    {
     "data": {
      "image/png": "[encoded data removed]",
      "text/plain": [
       "<Figure size 432x288 with 1 Axes>"
      ]
     },
     "metadata": {
      "needs_background": "light"
     },
     "output_type": "display_data"
    }
   ],
   "source": [
    "test_and_draw(model)"
   ]
  },
  {
   "cell_type": "markdown",
   "metadata": {},
   "source": [
    "## Ridge线性回归"
   ]
  },
  {
   "cell_type": "code",
   "execution_count": 39,
   "metadata": {},
   "outputs": [],
   "source": [
    "class RidgeLinearRegression(Regression):\n",
    "    def __init__(self,alpha,n_iterations=1000,learning_rate=0.01):\n",
    "        self.regularization=l2_regularization(alpha=alpha)\n",
    "        super(RidgeLinearRegression,self).__init__(n_iterations,learning_rate)\n",
    "    \n",
    "    def fit(self,X,y):\n",
    "        super(RidgeLinearRegression,self).fit(X,y)\n",
    "    \n",
    "    def predict(self,X):\n",
    "        return super(RidgeLinearRegression,self).predict(X)"
   ]
  },
  {
   "cell_type": "code",
   "execution_count": 40,
   "metadata": {},
   "outputs": [
    {
     "data": {
      "text/plain": [
       "array([ 2.37434802, 88.99676614])"
      ]
     },
     "execution_count": 40,
     "metadata": {},
     "output_type": "execute_result"
    }
   ],
   "source": [
    "model = RidgeLinearRegression(alpha=1.2,n_iterations=1000,learning_rate=0.1)\n",
    "model.fit(X_train,y_train)\n",
    "model.w"
   ]
  },
  {
   "cell_type": "markdown",
   "metadata": {},
   "source": [
    "## L1,L2调和的正则化\n",
    "\n",
    "在调和的正则化中，\n",
    "\n",
    "l1_ratio : 调和时，L1正则化的值所占的百分比[0,1]\n",
    "\n",
    "_l2_ratio = 1 - l1_ratio(事实熵在算法中叶找不到 l2_ratio)\n",
    "\n",
    "alpha: 全局的整体正则化权重\n",
    "\n",
    "#### Loss = mse + alpha *  (l1_ratio * l1Loss + (1-l1_ratio) * l2Loss)"
   ]
  },
  {
   "cell_type": "code",
   "execution_count": 41,
   "metadata": {},
   "outputs": [],
   "source": [
    "class l1_l2_regularization():\n",
    "    \"\"\"使用在ElasticNet中的正则化\"\"\"\n",
    "    \n",
    "    def __init__(self,alpha,l1_ratio=0.5):\n",
    "        self.alpha = alpha\n",
    "        self.l1_ratio = l1_ratio\n",
    "    \n",
    "    def __call__(self,w):\n",
    "        l1_loss = self.l1_ratio*np.linalg.norm(w,ord=1)\n",
    "        l2_loss = (1-self.l1_ratio)*0.5*w.T.dot(w)#np.linalg.norm(w,ord=2)\n",
    "        return self.alpha*(l1_loss+l2_loss)\n",
    "    \n",
    "    def grad(self,w):\n",
    "        l1_grad = self.l1_ratio*np.sign(w)\n",
    "        l2_grad = (1-self.l1_ratio)*w\n",
    "        return self.alpha*(l1_grad+l2_grad)"
   ]
  },
  {
   "cell_type": "code",
   "execution_count": 42,
   "metadata": {},
   "outputs": [],
   "source": [
    "l1_l2 = l1_l2_regularization(alpha=0.1)"
   ]
  },
  {
   "cell_type": "code",
   "execution_count": 44,
   "metadata": {},
   "outputs": [
    {
     "data": {
      "text/plain": [
       "0.9750000000000001"
      ]
     },
     "execution_count": 44,
     "metadata": {},
     "output_type": "execute_result"
    }
   ],
   "source": [
    "l1_l2(np.array([3,4]))"
   ]
  },
  {
   "cell_type": "markdown",
   "metadata": {},
   "source": [
    "## ElasticNetLinearRegression"
   ]
  },
  {
   "cell_type": "code",
   "execution_count": 62,
   "metadata": {},
   "outputs": [],
   "source": [
    "class ElasticLinearRegression(Regression):\n",
    "    \"\"\"\n",
    "    ElasticNet线性回归算法\n",
    "    ---------------------\n",
    "    参数：\n",
    "        alpha：全局正则化系数\n",
    "        l1_ratio:l1正则化参数比例\n",
    "        n_iterations\n",
    "        learning_rate\n",
    "    \"\"\"\n",
    "    def __init__(self,alpha=0.5,l1_ratio=0.5,n_iterations=3000,learning_rate=0.01):\n",
    "        self.regularization = l1_l2_regularization(alpha=alpha,l1_ratio=l1_ratio)\n",
    "        super(ElasticLinearRegression,self).__init__(n_iterations,learning_rate)\n",
    "    \n",
    "    def fit(self,X,y):\n",
    "        super(ElasticLinearRegression,self).fit(X,y)\n",
    "    \n",
    "    def predict(self,X):\n",
    "        return super(ElasticLinearRegression,self).predict(X)"
   ]
  },
  {
   "cell_type": "code",
   "execution_count": 63,
   "metadata": {},
   "outputs": [],
   "source": [
    "model=ElasticLinearRegression(l1_ratio=0.5,alpha=1.2)"
   ]
  },
  {
   "cell_type": "code",
   "execution_count": 64,
   "metadata": {},
   "outputs": [],
   "source": [
    "model.fit(X_train,y_train)"
   ]
  },
  {
   "cell_type": "code",
   "execution_count": 65,
   "metadata": {},
   "outputs": [
    {
     "name": "stdout",
     "output_type": "stream",
     "text": [
      "方差： 404.7383546610098\n"
     ]
    },
    {
     "data": {
      "image/png": "[encoded data removed]",
      "text/plain": [
       "<Figure size 432x288 with 1 Axes>"
      ]
     },
     "metadata": {
      "needs_background": "light"
     },
     "output_type": "display_data"
    }
   ],
   "source": [
    "test_and_draw(model)"
   ]
  },
  {
   "cell_type": "markdown",
   "metadata": {},
   "source": [
    "## 多项式回归\n",
    "\n",
    "一阶多项式：x,y,z,x2,x3,x4...\n",
    "\n",
    "二阶多项式：x1^2,x2^2,x3^2,x1x2,x1,x3,x2x3\n",
    "\n",
    "三阶多项式： x1^3,x2^3,x1x1x2,x1x2x3..."
   ]
  },
  {
   "cell_type": "markdown",
   "metadata": {},
   "source": [
    "### 构造多项式特征"
   ]
  },
  {
   "cell_type": "code",
   "execution_count": 57,
   "metadata": {},
   "outputs": [],
   "source": [
    "from itertools import combinations_with_replacement\n",
    "\n",
    "def polynomial_features(X,degree):\n",
    "    n_samples,n_features=np.shape(X)\n",
    "    # 对于每一行的feature构造排列组合，根据排列组合进行特征的乘积，形成新的X'\n",
    "\n",
    "    def index_combinations():\n",
    "        combs=[combinations_with_replacement(range(n_features),i) for i in range(0,degree+1)]\n",
    "        new_combs=[item for sub in combs for item in sub]\n",
    "        return new_combs\n",
    "    print(\"Feature 列的排列组合：->\", [x for x in index_combinations()])\n",
    "    comb = index_combinations()\n",
    "    feature_length=len(comb)\n",
    "    output=np.empty((n_samples,feature_length))\n",
    "    for i,index_combs in enumerate(comb):\n",
    "        output[:,i] = np.prod(X[:, index_combs],axis=1)\n",
    "    return output"
   ]
  },
  {
   "cell_type": "code",
   "execution_count": 58,
   "metadata": {},
   "outputs": [
    {
     "name": "stdout",
     "output_type": "stream",
     "text": [
      "Feature 列的排列组合：-> [(), (0,), (1,), (2,), (0, 0), (0, 1), (0, 2), (1, 1), (1, 2), (2, 2)]\n"
     ]
    },
    {
     "data": {
      "text/plain": [
       "array([[ 1.,  1.,  2.,  3.,  1.,  2.,  3.,  4.,  6.,  9.],\n",
       "       [ 1.,  4.,  5.,  6., 16., 20., 24., 25., 30., 36.]])"
      ]
     },
     "execution_count": 58,
     "metadata": {},
     "output_type": "execute_result"
    }
   ],
   "source": [
    "polynomial_features(np.array([[1,2,3],[4,5,6]]),degree=2)"
   ]
  },
  {
   "cell_type": "code",
   "execution_count": 60,
   "metadata": {},
   "outputs": [
    {
     "name": "stdout",
     "output_type": "stream",
     "text": [
      "()\n"
     ]
    }
   ],
   "source": [
    "for x in combinations_with_replacement([0,1],0):print(x)"
   ]
  },
  {
   "cell_type": "code",
   "execution_count": 73,
   "metadata": {},
   "outputs": [],
   "source": [
    "class PolyRegression(Regression):\n",
    "    \"\"\"\n",
    "    多项式回归就是将原来的feature转换成多阶的新feature，之后进行线性回归：\n",
    "    ------------------\n",
    "    参数：\n",
    "        degree：最大的阶数\n",
    "        \n",
    "        n_iterations:float\n",
    "        \n",
    "        learning_rate:float\n",
    "    \"\"\"\n",
    "    def __init__(self,degree,n_iterations=3000,learning_rate=0.01):\n",
    "        self.degree = degree\n",
    "        \n",
    "        self.regularization = lambda x:0\n",
    "        \n",
    "        self.regularization.grad = lambda x:0\n",
    "        \n",
    "        super(PolyRegression,self).__init__(n_iterations=n_iterations,learning_rate = learning_rate)\n",
    "        \n",
    "    def fit(self,X,y):\n",
    "        \n",
    "        X = polynomial_features(X,degree=self.degree)\n",
    "        \n",
    "        super(PolyRegression,self).fit(X,y)\n",
    "    \n",
    "    def predict(self,X):\n",
    "        \n",
    "        X =polynomial_features(X,degree=self.degree)\n",
    "        \n",
    "        return super(PolyRegression,self).predict(X)"
   ]
  },
  {
   "cell_type": "code",
   "execution_count": 83,
   "metadata": {},
   "outputs": [],
   "source": [
    "model = PolyRegression(degree=4)"
   ]
  },
  {
   "cell_type": "code",
   "execution_count": 84,
   "metadata": {},
   "outputs": [
    {
     "name": "stdout",
     "output_type": "stream",
     "text": [
      "Feature 列的排列组合：-> [(), (0,), (0, 0), (0, 0, 0), (0, 0, 0, 0)]\n"
     ]
    }
   ],
   "source": [
    "model.fit(X_train,y_train)"
   ]
  },
  {
   "cell_type": "code",
   "execution_count": 85,
   "metadata": {},
   "outputs": [
    {
     "name": "stdout",
     "output_type": "stream",
     "text": [
      "Feature 列的排列组合：-> [(), (0,), (0, 0), (0, 0, 0), (0, 0, 0, 0)]\n",
      "方差： 409.4688499542538\n"
     ]
    },
    {
     "data": {
      "image/png": "[encoded data removed]",
      "text/plain": [
       "<Figure size 432x288 with 1 Axes>"
      ]
     },
     "metadata": {
      "needs_background": "light"
     },
     "output_type": "display_data"
    }
   ],
   "source": [
    "test_and_draw(model)"
   ]
  },
  {
   "cell_type": "markdown",
   "metadata": {},
   "source": [
    "## 数据的Normalize变换（归一化操作）\n",
    "\n",
    "行归一化"
   ]
  },
  {
   "cell_type": "code",
   "execution_count": 88,
   "metadata": {},
   "outputs": [],
   "source": [
    "def normalize(X,axis=1,order=2):\n",
    "    \"将数据集的每一行进行列的归一化--每一行的向量的L2范数归一\"\n",
    "    L2 = np.linalg.norm(X,order,axis)\n",
    "    L2[L2==0]=1 #为了避免滤掉为0的L2距离，在归一化的时候会出现除零问题\n",
    "    return X/np.expand_dims(L2,axis)"
   ]
  },
  {
   "cell_type": "code",
   "execution_count": 89,
   "metadata": {},
   "outputs": [
    {
     "data": {
      "text/plain": [
       "array([[0.4472136 , 0.89442719],\n",
       "       [0.6       , 0.8       ]])"
      ]
     },
     "execution_count": 89,
     "metadata": {},
     "output_type": "execute_result"
    }
   ],
   "source": [
    "normalize([[1,2],[3,4]],order=2,axis=1)"
   ]
  },
  {
   "cell_type": "code",
   "execution_count": 90,
   "metadata": {},
   "outputs": [],
   "source": [
    "class LassoRegression(Regression):\n",
    "    \"\"\"带有L1范数的Lasso多项式回归\n",
    "    ----------------------\n",
    "    degree:多项式的最高阶\n",
    "    \n",
    "    alpha：L1的系数\n",
    "    \n",
    "    n_iteration:float\n",
    "    \n",
    "    learning_rate:int\n",
    "    \n",
    "    normalized:bool\n",
    "    \"\"\"\n",
    "    \n",
    "    def __init__(self,degree,alpha,n_iterations=3000,learning_rate=0.01,normalized=True):\n",
    "        self.degree = degree\n",
    "        self.regularization = l1_regularization(alpha=alpha)\n",
    "        self.normalized=normalized\n",
    "        super(LassoRegression,self).__init__(n_iterations,learning_rate)\n",
    "        \n",
    "    def fit(self,X,y):\n",
    "        X =  polynomial_features(X,degree=self.degree)\n",
    "        if self.normalized:\n",
    "            X=normalize(X)\n",
    "        super(LassoRegression,self).fit(X,y)\n",
    "    \n",
    "    def predict(self,X):\n",
    "        X=polynomial_features(X,degree=self.degree)\n",
    "        if self.normalized:\n",
    "            X = normalize(X)\n",
    "        return super(LassoRegression,self).predict(X)"
   ]
  },
  {
   "cell_type": "code",
   "execution_count": 94,
   "metadata": {},
   "outputs": [],
   "source": [
    "model = LassoRegression(degree=5,alpha=200,n_iterations=2000,learning_rate=0.1)"
   ]
  },
  {
   "cell_type": "code",
   "execution_count": 95,
   "metadata": {},
   "outputs": [
    {
     "name": "stdout",
     "output_type": "stream",
     "text": [
      "Feature 列的排列组合：-> [(), (0,), (0, 0), (0, 0, 0), (0, 0, 0, 0), (0, 0, 0, 0, 0)]\n"
     ]
    }
   ],
   "source": [
    "model.fit(X_train,y_train)"
   ]
  },
  {
   "cell_type": "code",
   "execution_count": 96,
   "metadata": {},
   "outputs": [
    {
     "data": {
      "text/plain": [
       "array([ -1.01965748,   8.75143428,  77.20617466,  -2.00690342,\n",
       "       -33.28133564,   0.94242686, 193.80633867])"
      ]
     },
     "execution_count": 96,
     "metadata": {},
     "output_type": "execute_result"
    }
   ],
   "source": [
    "model.w"
   ]
  },
  {
   "cell_type": "code",
   "execution_count": 97,
   "metadata": {},
   "outputs": [
    {
     "name": "stdout",
     "output_type": "stream",
     "text": [
      "Feature 列的排列组合：-> [(), (0,), (0, 0), (0, 0, 0), (0, 0, 0, 0), (0, 0, 0, 0, 0)]\n",
      "方差： 396.33265341848244\n"
     ]
    },
    {
     "data": {
      "image/png": "[encoded data removed]",
      "text/plain": [
       "<Figure size 432x288 with 1 Axes>"
      ]
     },
     "metadata": {
      "needs_background": "light"
     },
     "output_type": "display_data"
    }
   ],
   "source": [
    "test_and_draw(model)"
   ]
  },
  {
   "cell_type": "markdown",
   "metadata": {},
   "source": [
    "## 带有多项式的Ridge回归"
   ]
  },
  {
   "cell_type": "code",
   "execution_count": 108,
   "metadata": {},
   "outputs": [],
   "source": [
    "class RidgeRegression(Regression):\n",
    "    \"\"\"带有多项式和归一化的Ridge回归\n",
    "    ------------------------------\n",
    "    参数：\n",
    "        \n",
    "        degree：最大阶数\n",
    "        \n",
    "        alpha：正则化系数\n",
    "        \n",
    "        n_iterations：步数\n",
    "        \n",
    "        learning_rate：步长\n",
    "        \n",
    "        normalized\n",
    "    \"\"\"\n",
    "    def __init__(self,degree,alpha,n_iterations=3000,learning_rate=0.01, normalized=True):\n",
    "        self.degree=degree\n",
    "        self.regularization = l2_regularization(alpha=alpha)\n",
    "        self.normalized = normalized\n",
    "        super(RidgeRegression,self).__init__(n_iterations,learning_rate)\n",
    "        \n",
    "    def fit(self,X,y):\n",
    "        X = polynomial_features(X, degree=self.degree)\n",
    "        if self.normalized:\n",
    "            X=normalize(X)\n",
    "        super(RidgeRegression,self).fit(X,y)\n",
    "    \n",
    "    def predict(self,X):\n",
    "        X = polynomial_features(X, degree=self.degree)\n",
    "        if self.normalized:\n",
    "            X=normalize(X)\n",
    "        return(super(RidgeRegression,self).predict(X))"
   ]
  },
  {
   "cell_type": "code",
   "execution_count": 109,
   "metadata": {},
   "outputs": [],
   "source": [
    "model = RidgeRegression(degree=3,alpha=100,n_iterations=1000,learning_rate=1)"
   ]
  },
  {
   "cell_type": "code",
   "execution_count": 110,
   "metadata": {},
   "outputs": [
    {
     "name": "stdout",
     "output_type": "stream",
     "text": [
      "Feature 列的排列组合：-> [(), (0,), (0, 0), (0, 0, 0)]\n"
     ]
    }
   ],
   "source": [
    "model.fit(X_train,y_train)"
   ]
  },
  {
   "cell_type": "code",
   "execution_count": 111,
   "metadata": {},
   "outputs": [
    {
     "name": "stdout",
     "output_type": "stream",
     "text": [
      "Feature 列的排列组合：-> [(), (0,), (0, 0), (0, 0, 0)]\n",
      "方差： 402.1395384367315\n"
     ]
    },
    {
     "data": {
      "image/png": "[encoded data removed]",
      "text/plain": [
       "<Figure size 432x288 with 1 Axes>"
      ]
     },
     "metadata": {
      "needs_background": "light"
     },
     "output_type": "display_data"
    }
   ],
   "source": [
    "test_and_draw(model)"
   ]
  },
  {
   "cell_type": "code",
   "execution_count": 112,
   "metadata": {},
   "outputs": [],
   "source": [
    "class ElasticNetRegression(Regression):\n",
    "    \"\"\"\n",
    "    带有L1L2调和的线性回归\n",
    "    --------------------\n",
    "    \n",
    "    degree\n",
    "    \n",
    "    alpha\n",
    "    \n",
    "    l1_ratio\n",
    "    \n",
    "    n_iterations\n",
    "    \n",
    "    learning_rate\n",
    "    \n",
    "    normalized\n",
    "    \"\"\"\n",
    "    def __init__(self,degree,alpha=0.5,l1_ratio=0.5,n_iterations=3000,learning_rate=0.01,normalized=True):\n",
    "        self.degree= degree\n",
    "        self.regularization = l1_l2_regularization(alpha=alpha,l1_ratio=l1_ratio)\n",
    "        self.normalized = normalized\n",
    "        super(ElasticNetRegression,self).__init__(n_iterations,learning_rate)\n",
    "        \n",
    "    def fit(self,X,y):\n",
    "        X = polynomial_features(X, degree=self.degree)\n",
    "        if self.normalized:\n",
    "            X=normalize(X)\n",
    "        super(ElasticNetRegression,self).fit(X,y)\n",
    "    \n",
    "    def predict(self,X):\n",
    "        X = polynomial_features(X, degree=self.degree)\n",
    "        if self.normalized:\n",
    "            X=normalize(X)\n",
    "        return(super(ElasticNetRegression,self).predict(X))  "
   ]
  },
  {
   "cell_type": "code",
   "execution_count": 113,
   "metadata": {},
   "outputs": [],
   "source": [
    "model = ElasticNetRegression(degree=4,alpha=20,n_iterations=500,learning_rate=0.1)"
   ]
  },
  {
   "cell_type": "code",
   "execution_count": 114,
   "metadata": {},
   "outputs": [
    {
     "name": "stdout",
     "output_type": "stream",
     "text": [
      "Feature 列的排列组合：-> [(), (0,), (0, 0), (0, 0, 0), (0, 0, 0, 0)]\n"
     ]
    }
   ],
   "source": [
    "model.fit(X_train,y_train)"
   ]
  },
  {
   "cell_type": "code",
   "execution_count": 115,
   "metadata": {},
   "outputs": [
    {
     "name": "stdout",
     "output_type": "stream",
     "text": [
      "Feature 列的排列组合：-> [(), (0,), (0, 0), (0, 0, 0), (0, 0, 0, 0)]\n",
      "方差： 436.7100563671055\n"
     ]
    },
    {
     "data": {
      "image/png": "[encoded data removed]",
      "text/plain": [
       "<Figure size 432x288 with 1 Axes>"
      ]
     },
     "metadata": {
      "needs_background": "light"
     },
     "output_type": "display_data"
    }
   ],
   "source": [
    "test_and_draw(model)"
   ]
  },
  {
   "cell_type": "markdown",
   "metadata": {},
   "source": [
    "## 读入真实的数据"
   ]
  },
  {
   "cell_type": "code",
   "execution_count": 116,
   "metadata": {},
   "outputs": [],
   "source": [
    "import pandas as pd"
   ]
  },
  {
   "cell_type": "code",
   "execution_count": null,
   "metadata": {},
   "outputs": [],
   "source": [
    "train = pd.read_csv()"
   ]
  },
  {
   "cell_type": "code",
   "execution_count": null,
   "metadata": {},
   "outputs": [],
   "source": [
    "y = np.asarray(train['SalePrice'])"
   ]
  }
 ],
 "metadata": {
  "kernelspec": {
   "display_name": "Python 3",
   "language": "python",
   "name": "python3"
  },
  "language_info": {
   "codemirror_mode": {
    "name": "ipython",
    "version": 3
   },
   "file_extension": ".py",
   "mimetype": "text/x-python",
   "name": "python",
   "nbconvert_exporter": "python",
   "pygments_lexer": "ipython3",
   "version": "3.7.0"
  }
 },
 "nbformat": 4,
 "nbformat_minor": 2
}
